{
 "cells": [
  {
   "cell_type": "code",
   "execution_count": 17,
   "id": "7721ea48",
   "metadata": {},
   "outputs": [],
   "source": [
    "import open3d as o3d\n",
    "import numpy as np\n",
    "import os\n",
    "import vtk\n",
    "import pandas as pd\n",
    "import matplotlib.pyplot as plt\n",
    "from scipy import spatial"
   ]
  },
  {
   "cell_type": "code",
   "execution_count": 18,
   "id": "55666812",
   "metadata": {},
   "outputs": [],
   "source": [
    "# Calculate height\n",
    "def calculate_height(pcd):\n",
    "    points = np.asarray(pcd.points)\n",
    "    z_points = sorted(points, key=(lambda z: z[2]))\n",
    "    min_pts, max_pts = z_points[0][2], z_points[-1][2]\n",
    "    height = max_pts - min_pts\n",
    "    return height\n",
    "\n",
    "# Calculate surface area and volume\n",
    "def calculate_surfacearea_and_volumn(pcd,mesh_file,i):\n",
    "    mesh, idx = pcd.compute_convex_hull()\n",
    "    outfile = os.path.join(mesh_file,str(i)+\".ply\")\n",
    "    o3d.io.write_triangle_mesh(outfile,mesh)\n",
    "    vtkReader = vtk.vtkPLYReader()\n",
    "    vtkReader.SetFileName(outfile)\n",
    "    vtkReader.Update()\n",
    "    polydata = vtkReader.GetOutput()\n",
    "    mass = vtk.vtkMassProperties()\n",
    "    mass.SetInputData(polydata)\n",
    "    mesh_area = mass.GetSurfaceArea()\n",
    "    mesh_volume = mass.GetVolume()\n",
    "    return(mesh_area,mesh_volume)\n",
    "\n",
    "# Calculate projected area\n",
    "def out_2d_area(pcd):\n",
    "    # Get 3D coordinates of point cloud\n",
    "    points = np.asarray(pcd.points)\n",
    "    # Get XY coordinates of point cloud\n",
    "    point2d = np.c_[points[:, 0], points[:, 1]]\n",
    "    # Get convex polygon boundary of planar point cloud\n",
    "    ch2d = spatial.ConvexHull(point2d)\n",
    "    area = ch2d.volume\n",
    "    # Visualize convex polygon boundary results\n",
    "    plt.figure()\n",
    "    # Visualize\n",
    "    ax = plt.subplot(aspect=\"equal\")\n",
    "    spatial.convex_hull_plot_2d(ch2d, ax=ax)\n",
    "    plt.title(\"Point cloud convex hull\")\n",
    "    plt.show()\n",
    "    return area"
   ]
  },
  {
   "cell_type": "code",
   "execution_count": 24,
   "id": "d98bd4db",
   "metadata": {},
   "outputs": [],
   "source": [
    "# Calculate flower cluster volume\n",
    "def calculate_voxel_grid_volume(pcd_file_path, step=0.1):\n",
    "    cloud = o3d.io.read_point_cloud(pcd_file_path)\n",
    "\n",
    "    # Get point cloud coordinates and range\n",
    "    point_cloud = np.asarray(cloud.points)\n",
    "    x_min, y_min, z_min = np.amin(point_cloud, axis=0)\n",
    "    x_max, y_max, z_max = np.amax(point_cloud, axis=0)\n",
    "\n",
    "    # Calculate total row, column, and layer numbers\n",
    "    row = int(np.ceil((x_max - x_min) / step))\n",
    "    col = int(np.ceil((y_max - y_min) / step))\n",
    "    cel = int(np.ceil((z_max - z_min) / step))\n",
    "    grid_size = (row, col, cel)\n",
    "\n",
    "    # Count points\n",
    "    grid_indices = np.floor((point_cloud - [x_min, y_min, z_min]) / step).astype(int)\n",
    "\n",
    "    # Ensure indices are within valid range\n",
    "    grid_indices = np.clip(grid_indices, 0, [row - 1, col - 1, cel - 1])\n",
    "    M = np.zeros((row, col, cel), dtype=int)\n",
    "    for rID, cID, eID in grid_indices:\n",
    "        M[rID, cID, eID] += 1\n",
    "        \n",
    "    # Calculate the number of non-empty voxels\n",
    "    num = np.count_nonzero(M)\n",
    "    grid_volume = num * step ** 3\n",
    "\n",
    "    return grid_volume"
   ]
  },
  {
   "cell_type": "code",
   "execution_count": null,
   "id": "4c716172",
   "metadata": {},
   "outputs": [],
   "source": []
  }
 ],
 "metadata": {
  "kernelspec": {
   "display_name": "text",
   "language": "python",
   "name": "text"
  },
  "language_info": {
   "codemirror_mode": {
    "name": "ipython",
    "version": 3
   },
   "file_extension": ".py",
   "mimetype": "text/x-python",
   "name": "python",
   "nbconvert_exporter": "python",
   "pygments_lexer": "ipython3",
   "version": "3.8.19"
  }
 },
 "nbformat": 4,
 "nbformat_minor": 5
}
