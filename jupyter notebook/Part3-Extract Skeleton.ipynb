{
 "cells": [
  {
   "cell_type": "code",
   "execution_count": null,
   "id": "1df6791a",
   "metadata": {},
   "outputs": [],
   "source": [
    "# Import Necessary Libraries\n",
    "import open3d as o3d\n",
    "import numpy as np\n",
    "from pc_skeletor.laplacian import SLBC\n",
    "from scipy.spatial import cKDTree\n",
    "import time\n",
    "import laspy\n",
    "import os\n",
    "import copy\n",
    "from math import ceil\n",
    "import matplotlib.pyplot as plt\n",
    "from multiprocessing import Pool, cpu_count"
   ]
  },
  {
   "cell_type": "code",
   "execution_count": null,
   "id": "30f8b3ce",
   "metadata": {},
   "outputs": [],
   "source": [
    "def create_folder_if_not_exists(folder_path):\n",
    "    if not os.path.exists(folder_path):\n",
    "        os.makedirs(folder_path)"
   ]
  },
  {
   "cell_type": "code",
   "execution_count": null,
   "id": "3dee6954",
   "metadata": {},
   "outputs": [],
   "source": [
    "# Convert LAS Format File to PCD Format File\n",
    "def las_to_pcd(las_folder, pcd_folder, is_color=True):\n",
    "    create_folder_if_not_exists(pcd_folder)\n",
    "    pcd_file_paths = []\n",
    "    offset_list = []\n",
    "\n",
    "    for las_file in os.listdir(las_folder):\n",
    "        las_path = os.path.join(las_folder, las_file)\n",
    "        las = laspy.read(las_path)\n",
    "\n",
    "        x, y, z = las.x, las.y, las.z\n",
    "        x_offset = x - np.min(x)\n",
    "        y_offset = y - np.min(y)\n",
    "        z_offset = z - np.min(z)\n",
    "        offset_list.append([np.min(x), np.min(y), np.min(z)])\n",
    "\n",
    "        points = np.vstack((x_offset, y_offset, z_offset)).transpose()\n",
    "        # Determine whether there is color information\n",
    "        if is_color and hasattr(las, 'red') and hasattr(las, 'green') and hasattr(las, 'blue'):\n",
    "            r, g, b = las.red, las.green, las.blue\n",
    "            colors = np.vstack((r/65536, g/65536, b/65536)).transpose()\n",
    "        else:\n",
    "            colors = None\n",
    "\n",
    "        pcd = o3d.geometry.PointCloud()\n",
    "        pcd.points = o3d.utility.Vector3dVector(points)\n",
    "        \n",
    "        if colors is not None:\n",
    "            pcd.colors = o3d.utility.Vector3dVector(colors)\n",
    "\n",
    "        pcd_file_path = os.path.join(pcd_folder, las_file[:-4] + \".pcd\")\n",
    "        pcd_file_paths.append(pcd_file_path)\n",
    "        o3d.io.write_point_cloud(pcd_file_path, pcd, write_ascii=True)\n",
    "\n",
    "    return pcd_file_paths, offset_list"
   ]
  },
  {
   "cell_type": "code",
   "execution_count": null,
   "id": "cff09488",
   "metadata": {},
   "outputs": [],
   "source": [
    "# Obtain the Main Trunk and Branches of Pear Trees\n",
    "def extract_trunk_points(pcd, dist, radius):\n",
    "    list_array = []\n",
    "    points = np.asarray(pcd.points)\n",
    "    max_pts = np.amax(points, axis=0)\n",
    "    min_pts = np.amin(points, axis=0)\n",
    "    # Calculate the number of vertical segments\n",
    "    heis = np.ceil((max_pts[2] - min_pts[2]) / dist)\n",
    "    # Vertical slicing of the point cloud\n",
    "    for i in range(int(heis)):\n",
    "        segment_points = points[\n",
    "            np.where((points[:, 2] >= i * dist + min_pts[2]) & (points[:, 2] < (i + 1) * dist + min_pts[2]))]\n",
    "        segment_pcd = o3d.geometry.PointCloud()\n",
    "        segment_pcd.points = o3d.utility.Vector3dVector(segment_points)\n",
    "        # If there is only one cluster, it is considered the trunk part\n",
    "        if segment_points.shape[0] != 0:\n",
    "            with o3d.utility.VerbosityContextManager(o3d.utility.VerbosityLevel.Debug) as cm:\n",
    "                labels = np.array(segment_pcd.cluster_dbscan(eps=radius, min_points=1, print_progress=False))\n",
    "            max_label = labels.max()\n",
    "            clusters = [np.where(labels == j)[0] for j in range(max_label + 1)]\n",
    "            if len(clusters) == 1:\n",
    "                for j in range(len(clusters)):\n",
    "                    clusters_cloud = segment_pcd.select_by_index(clusters[j])\n",
    "                    points_cloud = np.asarray(clusters_cloud.points)\n",
    "                    list_array.append(points_cloud)\n",
    "            # If there is more than one cluster, branches are starting to appear\n",
    "            elif len(clusters) != 1:\n",
    "                number = i\n",
    "                break\n",
    "    # Concatenate points of the trunk part\n",
    "    for k in range(len(list_array)):\n",
    "        if k == 0:\n",
    "            list_point_array_path = list_array[0]\n",
    "        else:\n",
    "            list_point_array_path = np.concatenate((list_array[k], list_point_array_path), axis=0)\n",
    "    # Convert array to point cloud\n",
    "    pcd_trunk = o3d.geometry.PointCloud()\n",
    "    pcd_trunk.points = o3d.utility.Vector3dVector(np.asarray(list_point_array_path))\n",
    "    other_points = points[np.where((points[:, 2] >= number * dist + min_pts[2]))]\n",
    "    pcd_branch = o3d.geometry.PointCloud()\n",
    "    pcd_branch.points = o3d.utility.Vector3dVector(np.asarray(other_points))\n",
    "    print(\"pcd_trunk\",pcd_trunk)\n",
    "    print(\"pcd_branch\",pcd_branch)\n",
    "    return pcd_trunk, pcd_branch"
   ]
  },
  {
   "cell_type": "code",
   "execution_count": null,
   "id": "f7923665",
   "metadata": {},
   "outputs": [],
   "source": [
    "# Obtain the pear tree skeleton point cloud using the Semantic Laplacian Beltrami Component (SLBC) algorithm\n",
    "def extract_skeleton(trunk_pcd, branch_pcd, semantic_weighting, down_sample):\n",
    "    slbc = SLBC(point_cloud={'trunk': trunk_pcd, 'branches': branch_pcd},\n",
    "                semantic_weighting=semantic_weighting,\n",
    "                down_sample=down_sample,\n",
    "                debug=False)\n",
    "    slbc.extract_skeleton()\n",
    "    slbc.extract_topology()\n",
    "    return slbc"
   ]
  },
  {
   "cell_type": "code",
   "execution_count": null,
   "id": "0c93e9a8",
   "metadata": {},
   "outputs": [],
   "source": [
    "# Invoking function\n",
    "def process_point_clouds(pcd_folder, result_folder, radius):\n",
    "    skeleton_folder = os.path.join(result_folder, \"skeleton\")\n",
    "    create_folder_if_not_exists(skeleton_folder)\n",
    "    for pcd_file in os.listdir(pcd_folder):\n",
    "        pcd_path = os.path.join(pcd_folder, pcd_file)\n",
    "        print(pcd_path)\n",
    "        pcd = o3d.io.read_point_cloud(pcd_path)\n",
    "        # extract trunk and branch point cloud\n",
    "        try:\n",
    "            trunk_pcd, branch_pcd = extract_trunk_points(pcd, 0.001, radius)\n",
    "        except UnboundLocalError:\n",
    "            trunk_pcd, branch_pcd = extract_trunk_points(pcd, 0.001, 0.5)\n",
    "        trunk_folder = os.path.join(skeleton_folder, \"trunk\", pcd_file[:-4])\n",
    "        branch_folder = os.path.join(skeleton_folder, \"branch\", pcd_file[:-4])\n",
    "        create_folder_if_not_exists(trunk_folder)\n",
    "        create_folder_if_not_exists(branch_folder)\n",
    "        \n",
    "        trunk_path = os.path.join(trunk_folder, \"trunk_\" + pcd_file)\n",
    "        branch_path = os.path.join(branch_folder, \"branch_\" + pcd_file)\n",
    "        o3d.io.write_point_cloud(trunk_path, trunk_pcd)\n",
    "        o3d.io.write_point_cloud(branch_path, branch_pcd)\n",
    "        # extract skeleton\n",
    "        slbc = extract_skeleton(trunk_pcd, branch_pcd, semantic_weighting=5, down_sample=0.01)\n",
    "        mesh_folder = os.path.join(skeleton_folder, \"mesh\", pcd_file[:-4])\n",
    "        create_folder_if_not_exists(mesh_folder)\n",
    "        slbc.save(mesh_folder)"
   ]
  },
  {
   "cell_type": "code",
   "execution_count": null,
   "id": "b1e1fe06",
   "metadata": {},
   "outputs": [],
   "source": [
    "# Input folders\n",
    "lidar_las_folder = r\"E:\\Pear\\Lidar\\Dormancy Stage\\Result_dir\\denosied_single_tree_las\"\n",
    "uav_dormant_folder = r\"E:\\Pear\\UAV\\Dormancy Stage\\Result_dir\\denosied_single_tree_las\"\n",
    "uav_flower_folder = r\"E:\\Pear\\UAV\\Flowering Stage\\Result_dir\\denosied_single_tree_las\"\n",
    "\n",
    "# Convert LAS to PCD\n",
    "lidar_pcd_folder = r\"E:\\Pear\\Lidar\\Dormancy Stage\\Result_dir\\pcd\"\n",
    "uav_dormant_pcd_folder = r\"E:\\Pear\\UAV\\Dormancy Stage\\Result_dir\\pcd\"\n",
    "uav_flower_pcd_folder = r\"E:\\Pear\\UAV\\Flowering Stage\\Result_dir\\pcd\""
   ]
  },
  {
   "cell_type": "code",
   "execution_count": null,
   "id": "bfaaeaed",
   "metadata": {},
   "outputs": [],
   "source": [
    "# Convert LAS to PCD\n",
    "# lidar dormant stage point clouds\n",
    "lidar_pcd_file_paths, lidar_pcd_offset_list = las_to_pcd(lidar_las_folder, lidar_pcd_folder, is_color=False)"
   ]
  },
  {
   "cell_type": "code",
   "execution_count": null,
   "id": "f3ddaa97",
   "metadata": {},
   "outputs": [],
   "source": [
    "# uav dormant stage point clouds\n",
    "uav_dormant_pcd_file_paths, uav_dormant_pcd_offset_list = las_to_pcd(uav_dormant_folder, uav_dormant_pcd_folder, is_color=True)"
   ]
  },
  {
   "cell_type": "code",
   "execution_count": null,
   "id": "0cba4230",
   "metadata": {},
   "outputs": [],
   "source": [
    "# uav flower stage point clouds\n",
    "uav_flower_pcd_file_paths, uav_flower_pcd_offset_list = las_to_pcd(uav_flower_folder, uav_flower_pcd_folder, is_color=True)"
   ]
  },
  {
   "cell_type": "code",
   "execution_count": null,
   "id": "419f82a2",
   "metadata": {},
   "outputs": [],
   "source": [
    "# Extract skeleton from PCD\n",
    "lidar_result_folder = r\"E:\\Pear\\Lidar\\Dormancy Stage\\Result_dir\"\n",
    "uav_dormant_result_folder = r\"E:\\Pear\\UAV\\Dormancy Stage\\Result_dir\"\n",
    "uav_flower_result_folder = r\"E:\\Pear\\UAV\\Flowering Stage\\Result_dir\""
   ]
  },
  {
   "cell_type": "code",
   "execution_count": null,
   "id": "ddfec59e",
   "metadata": {},
   "outputs": [],
   "source": [
    "# Extract Skeleton\n",
    "# lidar dormant stage skeleton\n",
    "process_point_clouds(lidar_pcd_folder, lidar_result_folder, 0.15)"
   ]
  },
  {
   "cell_type": "code",
   "execution_count": null,
   "id": "e4a11701",
   "metadata": {},
   "outputs": [],
   "source": [
    "# uav dormant stage skeleton\n",
    "process_point_clouds(uav_dormant_pcd_folder, uav_dormant_result_folder, 0.5)"
   ]
  },
  {
   "cell_type": "code",
   "execution_count": null,
   "id": "a50fc4b1",
   "metadata": {},
   "outputs": [],
   "source": [
    "# uav flower stage skeleton\n",
    "process_point_clouds(uav_flower_pcd_folder, uav_flower_result_folder, 0.5)"
   ]
  }
 ],
 "metadata": {
  "kernelspec": {
   "display_name": "lidar",
   "language": "python",
   "name": "lidar"
  },
  "language_info": {
   "codemirror_mode": {
    "name": "ipython",
    "version": 3
   },
   "file_extension": ".py",
   "mimetype": "text/x-python",
   "name": "python",
   "nbconvert_exporter": "python",
   "pygments_lexer": "ipython3",
   "version": "3.7.12"
  }
 },
 "nbformat": 4,
 "nbformat_minor": 5
}
