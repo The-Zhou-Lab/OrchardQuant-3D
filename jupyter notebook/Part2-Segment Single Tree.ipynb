{
 "cells": [
  {
   "cell_type": "code",
   "execution_count": 1,
   "id": "a038efb4",
   "metadata": {},
   "outputs": [],
   "source": [
    "# Import Necessary Libraries\n",
    "import shapefile\n",
    "import rasterio\n",
    "import laspy\n",
    "import cv2\n",
    "import math\n",
    "import numpy as np\n",
    "from rasterio.control import GroundControlPoint as GCP\n",
    "from rasterio.transform import from_gcps\n",
    "import matplotlib.pyplot as plt\n",
    "import pandas as pd\n",
    "import whitebox\n",
    "import os\n",
    "import numpy as np\n",
    "from scipy import ndimage\n",
    "from sklearn.cluster import KMeans\n",
    "from skimage import io, morphology, measure, color, filters\n",
    "from sklearn.neighbors import KDTree\n",
    "from scipy import spatial\n",
    "import re"
   ]
  },
  {
   "cell_type": "code",
   "execution_count": 2,
   "id": "8baab812",
   "metadata": {},
   "outputs": [],
   "source": [
    "# Clear KMeans warning\n",
    "os.environ['OMP_NUM_THREADS'] = '1'"
   ]
  },
  {
   "cell_type": "code",
   "execution_count": 3,
   "id": "af48f066",
   "metadata": {},
   "outputs": [],
   "source": [
    "# CHM Alignment\n",
    "def transform_chm(chm_path, rtk_points_path):\n",
    "    with rasterio.open(chm_path) as chm:\n",
    "        profile = chm.profile\n",
    "        chm_dir, chm_name = os.path.split(chm_path)\n",
    "\n",
    "        sf = shapefile.Reader(rtk_points_path, 'rb')\n",
    "        shapes = sf.shapes()\n",
    "        rtk_points = [shape.points[0] for shape in shapes]\n",
    "        # Retrieves the pixel coordinates of CHM from geographic coordinates\n",
    "        pixel_indices = []\n",
    "        for x, y in rtk_points:\n",
    "            row, col = chm.index(x, y)\n",
    "            pixel_indices.append((row, col))\n",
    "        print(pixel_indices)\n",
    "\n",
    "        ul_row, ul_col = pixel_indices[0]\n",
    "        ll_row, ll_col = pixel_indices[1] \n",
    "        lr_row, lr_col = pixel_indices[2]\n",
    "        ur_row, ur_col = pixel_indices[3]\n",
    "\n",
    "        num_rows = max(\n",
    "            np.int64(math.hypot(ul_row - ll_row, ul_col - ll_col)),\n",
    "            np.int64(math.hypot(ur_row - lr_row, ur_col - lr_col))\n",
    "        )\n",
    "        num_cols = max(  \n",
    "            np.int64(math.hypot(ul_row - ur_row, ul_col - ur_col)),\n",
    "            np.int64(math.hypot(ll_row - lr_row, ll_col - lr_col))\n",
    "        )\n",
    "\n",
    "        print(f\"num_rows: {num_rows}, num_cols: {num_cols}\")\n",
    "        print(f\"RTK points: {rtk_points}\")\n",
    "        print(f\"Pixel indices: {pixel_indices}\")\n",
    "        # make Ground Control Points (GCPs)\n",
    "        gcps = [\n",
    "            GCP(0, 0, *rtk_points[0]),\n",
    "            GCP(0, num_cols, *rtk_points[3]), \n",
    "            GCP(num_rows, 0, *rtk_points[1]),\n",
    "            GCP(num_rows, num_cols, *rtk_points[2])\n",
    "        ]\n",
    "        # Generate affine transformation matrix from GCPs\n",
    "        transform = from_gcps(gcps)\n",
    "        print(f\"Transform: {transform}\")\n",
    "\n",
    "        chm_array = chm.read(1)\n",
    "        print(f\"CHM array shape: {chm_array.shape}\")\n",
    "\n",
    "        src_points = np.float32([\n",
    "            [ul_col, ul_row], [ur_col, ur_row], \n",
    "            [ll_col, ll_row], [lr_col, lr_row]\n",
    "        ])\n",
    "        dst_points = np.float32([\n",
    "            [0, 0], [num_cols, 0],  \n",
    "            [0, num_rows], [num_cols, num_rows]\n",
    "        ])\n",
    "        # Calculate perspective transformation matrix\n",
    "        perspective_transform = cv2.getPerspectiveTransform(src_points, dst_points)\n",
    "        print(f\"Perspective transform shape: {perspective_transform.shape}\")\n",
    "\n",
    "        # Apply perspective transformation to CHM\n",
    "        warped_chm = cv2.warpPerspective(chm_array, perspective_transform, (num_cols, num_rows))\n",
    "        print(f\"Warped CHM shape: {warped_chm.shape}\")\n",
    "\n",
    "        profile.update(width=num_cols, height=num_rows, transform=transform)\n",
    "\n",
    "        transformed_path = os.path.join(chm_dir, \"transformed_chm.tif\")\n",
    "        with rasterio.open(transformed_path, 'w', **profile) as dst:\n",
    "            dst.write(warped_chm, 1)\n",
    "\n",
    "    return transformed_path"
   ]
  },
  {
   "cell_type": "code",
   "execution_count": 4,
   "id": "6152a8b4",
   "metadata": {},
   "outputs": [],
   "source": [
    "def extract_bbox(image_path):\n",
    "    # Read the image\n",
    "    image = io.imread(image_path)\n",
    "\n",
    "    # Binarization using Otsu's threshold method\n",
    "    thresh = filters.threshold_otsu(image)\n",
    "    binary = image > thresh\n",
    "\n",
    "    # Morphological closing to close canopy areas\n",
    "    closed = ndimage.binary_closing(\n",
    "        binary, structure=morphology.disk(5), iterations=6)\n",
    "\n",
    "    # Remove small isolated noise points\n",
    "    cleaned = morphology.remove_small_objects(closed, min_size=100)\n",
    "\n",
    "    # Connected component analysis\n",
    "    labels = measure.label(cleaned, connectivity=2)\n",
    "\n",
    "    # Label connected components and display bounding boxes\n",
    "    rgb_labels = color.label2rgb(labels, bg_label=0)\n",
    "\n",
    "    fig, ax = plt.subplots(figsize=(10, 10))\n",
    "    ax.imshow(binary)\n",
    "\n",
    "    centroid_list = []\n",
    "    bbox_list = []\n",
    "    for region in measure.regionprops(labels):\n",
    "        # Draw bounding box\n",
    "        minr, minc, maxr, maxc = region.bbox\n",
    "        rect = plt.Rectangle((minc, minr), maxc - minc, maxr - minr,\n",
    "                             fill=False, edgecolor='red', linewidth=1)\n",
    "        ax.add_patch(rect)\n",
    "        label = region.label\n",
    "        ax.text(minc, minr, str(label), fontsize=12, color='yellow',\n",
    "                ha='center', va='center')\n",
    "\n",
    "        # Get centroid coordinates and bounding box coordinates\n",
    "        centroid = region.centroid\n",
    "        bbox = region.bbox\n",
    "        centroid_list.append(centroid)\n",
    "        bbox_list.append(bbox)\n",
    "\n",
    "    ax.set_axis_off()\n",
    "    plt.tight_layout()\n",
    "\n",
    "    # Save result image to IMG folder\n",
    "    output_dir = os.path.join(os.path.dirname(image_path), 'IMG')\n",
    "    os.makedirs(output_dir, exist_ok=True)\n",
    "\n",
    "    # Save the binary image\n",
    "    binary_path = os.path.join(output_dir, 'binary.png')\n",
    "    io.imsave(binary_path, binary.astype(np.uint8) * 255)\n",
    "\n",
    "    # Save the image after closing operation\n",
    "    closed_path = os.path.join(output_dir, 'closed.png')\n",
    "    io.imsave(closed_path, closed.astype(np.uint8) * 255)\n",
    "\n",
    "    # Save the image after removing noise\n",
    "    cleaned_path = os.path.join(output_dir, 'cleaned.png')\n",
    "    io.imsave(cleaned_path, cleaned.astype(np.uint8) * 255)\n",
    "\n",
    "    # Save connected component analysis image\n",
    "    labels_path = os.path.join(output_dir, 'rgb_labels.png')\n",
    "    io.imsave(labels_path, (rgb_labels * 255).astype(np.uint8))\n",
    "\n",
    "    # Save the image with labeled connected components\n",
    "    result_path = os.path.join(output_dir, 'result.png')\n",
    "    plt.savefig(result_path, dpi=300, bbox_inches='tight')\n",
    "    # Generate image of connected component centroids on a white background with black dots\n",
    "\n",
    "    plt.close(fig)\n",
    "\n",
    "    return centroid_list, bbox_list,binary"
   ]
  },
  {
   "cell_type": "code",
   "execution_count": 5,
   "id": "0dc9dc96",
   "metadata": {},
   "outputs": [],
   "source": [
    "def create_single_tree_shapefile(tree_points_geo, shapefile_path):\n",
    "    with shapefile.Writer(shapefile_path, shapeType=shapefile.POLYGON) as w:\n",
    "        w.field('name', 'C')\n",
    "        w.poly([tree_points_geo])\n",
    "        w.record('polygon')\n",
    "\n",
    "\n",
    "# generate trees bouning box\n",
    "def generate_tree_shapefiles(border_list, chm_path):\n",
    "    chm = rasterio.open(chm_path)\n",
    "    geo_pixels = []\n",
    "    shapefile_paths = []\n",
    "    col_geo_pixels = []\n",
    "    for tree_index, tree in enumerate(border_list):\n",
    "        if len(tree) == 4:\n",
    "                # Convert the bounding box tuple into a list of coordinate points, and be aware that the direction of the generated .shp file,\n",
    "                # whether clockwise or counter-clockwise, affects the results of subsequent segmentation. The code is in counter-clockwise direction\n",
    "                # tree_points = [[tree[0], tree[1]], [tree[2], tree[1]], [tree[2], tree[3]], [tree[0], tree[3]]]\n",
    "            tree_points = [[tree[0], tree[1]], [tree[0], tree[3]], [tree[2], tree[3]], [tree[2], tree[1]]]\n",
    "            tree_points_geo = [rasterio.transform.xy(chm.transform, point[0], point[1], offset='center')\n",
    "                                   for point in tree_points]\n",
    "            col_geo_pixels.append(tree_points_geo)\n",
    "            shapefile_name = f\"polygon_{tree_index}.shp\"\n",
    "            shapefile_dir = os.path.join(os.path.dirname(chm_path), \"Result_dir\", \"single_tree_shapefiles\")\n",
    "            os.makedirs(shapefile_dir, exist_ok=True)\n",
    "            shapefile_path = os.path.join(shapefile_dir, shapefile_name)\n",
    "            shapefile_paths.append(shapefile_path)\n",
    "            create_single_tree_shapefile(tree_points_geo, shapefile_path)\n",
    "    geo_pixels.append(col_geo_pixels)\n",
    "    return geo_pixels, shapefile_paths\n",
    "\n",
    "def segment_single_tree(las_path, shapefile_paths):\n",
    "    las_dir, _ = os.path.split(las_path)\n",
    "    output_dir = os.path.join(las_dir, \"Result_dir\", \"origin_single_tree_las\")\n",
    "    os.makedirs(output_dir, exist_ok=True)\n",
    "\n",
    "    wbt = whitebox.WhiteboxTools()\n",
    "    wbt.set_verbose_mode(False)\n",
    "\n",
    "    for shapefile_path in shapefile_paths:\n",
    "        # Extract the sequence number from the filename\n",
    "        file_name = os.path.basename(shapefile_path)\n",
    "        tree_id = file_name.split('_')[1][:-4]\n",
    "\n",
    "        output_las_name = f\"{tree_id}.las\"\n",
    "        output_las_path = os.path.join(output_dir, output_las_name)\n",
    "\n",
    "        wbt.clip_lidar_to_polygon(\n",
    "            i=las_path,\n",
    "            polygons=shapefile_path,\n",
    "            output=output_las_path\n",
    "        )\n",
    "\n",
    "def denoise_pear_tree(input_folder, output_folder, sigma=1, K=10):\n",
    "    # Create the output folder if it doesn't exist\n",
    "    if not os.path.exists(output_folder):\n",
    "        os.makedirs(output_folder)\n",
    "    # Iterate over all LAS files in the input folder\n",
    "    for filename in os.listdir(input_folder):\n",
    "        if filename.endswith(\".las\") or filename.endswith(\".LAS\"):\n",
    "            input_path = os.path.join(input_folder, filename)\n",
    "            output_path = os.path.join(output_folder, filename)\n",
    "\n",
    "            las = laspy.read(input_path)\n",
    "            x, y, z = las[\"X\"], las[\"Y\"], las[\"Z\"]\n",
    "            lasdata = (np.stack((x, y, z), axis=0)).transpose()\n",
    "            tree = spatial.KDTree(lasdata)\n",
    "\n",
    "            k_dist = np.zeros_like(x)\n",
    "            for i in range(len(x)):\n",
    "                dist, index = tree.query(np.array([x[i], y[i], z[i]]), K)\n",
    "                k_dist[i] = np.sum(dist)\n",
    "\n",
    "            # Determine the maximum threshold of noise\n",
    "            max_distance = np.mean(k_dist) + sigma * np.std(k_dist)\n",
    "\n",
    "            # Index of noise\n",
    "            outer_index = np.where(k_dist > max_distance)\n",
    "            # print(f'Outer points index array for {filename}: {outer_index}')\n",
    "\n",
    "            sor_filter = k_dist <= max_distance\n",
    "\n",
    "            out_las = laspy.LasData(las.header)\n",
    "            out_las.points = las.points[sor_filter]\n",
    "            out_las.write(output_path)"
   ]
  },
  {
   "cell_type": "code",
   "execution_count": null,
   "id": "bfe8f163",
   "metadata": {},
   "outputs": [],
   "source": []
  },
  {
   "cell_type": "markdown",
   "id": "b74361ae",
   "metadata": {},
   "source": [
    "# Lidar Dormancy Stage"
   ]
  },
  {
   "cell_type": "code",
   "execution_count": 9,
   "id": "2d13fe6a",
   "metadata": {},
   "outputs": [
    {
     "name": "stdout",
     "output_type": "stream",
     "text": [
      "[(-1, 2278), (2626, -1), (4941, 2629), (2290, 4976)]\n",
      "num_rows: 3540, num_cols: 3539\n",
      "RTK points: [[-2185230.64999, 13857645.31], [-2185253.44, 13857619.04], [-2185227.14, 13857595.89], [-2185203.67, 13857622.4]]\n",
      "Pixel indices: [(-1, 2278), (2626, -1), (4941, 2629), (2290, 4976)]\n",
      "Transform: | 0.01,-0.01,-2185230.48|\n",
      "|-0.01,-0.01, 13857645.37|\n",
      "| 0.00, 0.00, 1.00|\n",
      "CHM array shape: (4941, 4975)\n",
      "Perspective transform shape: (3, 3)\n",
      "Warped CHM shape: (3540, 3539)\n"
     ]
    }
   ],
   "source": [
    "lidar_chm_path = r\"E:\\Pear\\Lidar\\Dormancy Stage\\chm_roi_lidar_dormancy.tif\"\n",
    "lidar_rtk_path = r\"E:\\Pear\\ROI_Points\\Lidar\\lidar_roi_points.shp\"\n",
    "lidar_transformed_chm_path = transform_chm(lidar_chm_path, lidar_rtk_path)"
   ]
  },
  {
   "cell_type": "code",
   "execution_count": 10,
   "id": "8c4bbd6e",
   "metadata": {},
   "outputs": [
    {
     "name": "stdout",
     "output_type": "stream",
     "text": [
      "Centroid coordinates:\n",
      "[(166.91353459288644, 264.06928662677336), (184.59540043489477, 1430.0260199756754), (176.29453345900095, 2601.0295711592835), (164.69394313967862, 2945.1448207663784), (170.46156176954375, 2204.019435546706), (161.34891242310863, 1058.6161456021307), (204.2296951739254, 3363.9536063644114), (160.33614435418863, 1818.9319774291562), (608.1146100329549, 255.562504577078), (607.0545156645649, 3352.4277841219405), (579.4148780906594, 1058.915307348901), (615.8156586809628, 1813.2812308035964), (621.0580650393317, 2593.2300705538887), (633.5559529344443, 2991.563677980044), (606.9983529036714, 2209.8692418043674), (605.6870558544199, 660.9739655973966), (585.2739726027397, 1431.7769582016158), (1025.023860247124, 1441.5856838517257), (1045.974631582056, 255.47895809338178), (1061.4162874732333, 2962.927663276231), (1003.47768896721, 1051.6766945685695), (1053.7003623641135, 2209.224040984631), (1062.2863740512673, 2601.6634684233136), (1062.604708846805, 3343.149651561085), (1047.4455370126723, 1810.758603974794), (1053.5309626928045, 672.2742952663172), (1476.4506313192396, 1052.4295389676358), (1490.1719945218292, 2590.6963289574774), (1491.5011240766514, 1434.619491132284), (1496.8834038551952, 276.4709052113848), (1504.5522869755537, 2979.095114441518), (1486.8816646100165, 2231.8839623845793), (1481.8033069399162, 3359.7589659990686), (1481.5637069802567, 667.5308015967203), (1501.838208955224, 1818.7108208955224), (1879.916983965249, 2601.449455676516), (1910.93172175629, 2964.3417201118236), (1913.2133153658447, 1814.2856102269002), (1907.4187514948576, 2224.603587658455), (1923.0646907950984, 1435.8567113137647), (1915.2414770426756, 3363.316017491295), (1904.1035445553925, 278.18986323411104), (1916.2841082470088, 683.4687223962097), (2331.109229346047, 1444.1040347256815), (2335.4565874162618, 2602.3166951267567), (2381.551174977483, 260.3473348071727), (2354.8613845748882, 1829.364148460121), (2343.930099655221, 2994.329995749303), (2374.3061875147605, 3362.219475714398), (2364.9423427806837, 668.0403843814621), (2354.765139711229, 2228.2839929365327), (2344.184574468085, 1060.8241134751772), (2785.8659421259736, 3364.568380758626), (2787.3621628309825, 2986.073991586241), (2790.596339175991, 2622.7295776469828), (2822.155518229424, 1445.674093469025), (2799.57343773757, 682.0162688155694), (2852.460422740525, 266.84650145772594), (2789.240288297093, 2234.113242120694), (2828.336931844507, 1821.4484548023909), (2822.917223590104, 1051.4815922147966), (3223.3507686164903, 2986.5450189658613), (3240.9328252788105, 3368.8720446096654), (3274.088524590164, 1032.9886506935686), (3214.4839338531865, 2250.4896477547727), (3226.503522917121, 1453.27965424566), (3260.538571620232, 270.2878672689057), (3250.9915078569043, 2621.7030424607156), (3228.923245038902, 684.0805140309468), (3234.111098117179, 1843.000467781546)]\n",
      "Bounding box coordinates:\n",
      "[(30, 160, 333, 374), (30, 1338, 374, 1514), (30, 2501, 314, 2704), (38, 2864, 294, 3053), (47, 2127, 296, 2325), (53, 987, 275, 1172), (59, 3258, 357, 3490), (67, 1710, 299, 1915), (424, 146, 762, 381), (443, 3248, 791, 3456), (452, 974, 684, 1170), (458, 1736, 734, 1890), (479, 2493, 780, 2709), (482, 2896, 792, 3108), (494, 2110, 757, 2303), (523, 575, 703, 742), (538, 1403, 649, 1456), (881, 1331, 1183, 1537), (891, 145, 1218, 378), (899, 2873, 1216, 3067), (903, 987, 1101, 1148), (911, 2115, 1206, 2310), (931, 2498, 1241, 2712), (935, 3258, 1187, 3446), (966, 1742, 1156, 1879), (971, 589, 1170, 744), (1274, 939, 1621, 1134), (1285, 2495, 1674, 2720), (1335, 1325, 1639, 1554), (1342, 189, 1685, 404), (1346, 2854, 1640, 3083), (1348, 2153, 1602, 2339), (1351, 3273, 1658, 3455), (1370, 611, 1580, 738), (1386, 1744, 1617, 1902), (1716, 2498, 2063, 2679), (1742, 2838, 2075, 3064), (1754, 1724, 2082, 1938), (1757, 2131, 2056, 2321), (1762, 1346, 2073, 1530), (1770, 3258, 2079, 3481), (1778, 196, 2088, 388), (1789, 625, 2049, 757), (2206, 1384, 2465, 1548), (2208, 2510, 2510, 2691), (2212, 125, 2509, 356), (2218, 1757, 2471, 1942), (2231, 2899, 2463, 3096), (2239, 3242, 2527, 3464), (2259, 620, 2478, 737), (2260, 2141, 2468, 2293), (2261, 1023, 2431, 1117), (2606, 3231, 2939, 3484), (2641, 2885, 2919, 3109), (2649, 2548, 2905, 2685), (2651, 1346, 3007, 1557), (2672, 623, 2919, 750), (2709, 164, 2945, 361), (2711, 2125, 2911, 2354), (2714, 1730, 2957, 1919), (2718, 982, 2928, 1154), (3065, 2874, 3355, 3088), (3107, 3275, 3398, 3479), (3115, 940, 3434, 1124), (3115, 2142, 3323, 2380), (3120, 1368, 3328, 1526), (3124, 199, 3412, 357), (3127, 2535, 3396, 2700), (3129, 575, 3372, 789), (3132, 1768, 3350, 1927)]\n"
     ]
    }
   ],
   "source": [
    "# BBox Detection\n",
    "lidar_centroid_list, lidar_bbox_list, lidar_binary = extract_bbox(lidar_transformed_chm_path)\n",
    "print(\"Centroid coordinates:\")\n",
    "print(lidar_centroid_list)\n",
    "print(\"Bounding box coordinates:\")\n",
    "print(lidar_bbox_list)"
   ]
  },
  {
   "cell_type": "code",
   "execution_count": 11,
   "id": "cf586035",
   "metadata": {},
   "outputs": [],
   "source": [
    "lidar_geo_pixels, lidar_shapefile_paths = generate_tree_shapefiles(lidar_bbox_list,lidar_transformed_chm_path)"
   ]
  },
  {
   "cell_type": "code",
   "execution_count": 12,
   "id": "7c290848",
   "metadata": {},
   "outputs": [],
   "source": [
    "# segment uav flowering stage single tree\n",
    "lidar_las_path = r\"E:\\Pear\\Lidar\\Dormancy Stage\\dormancy_manual_above_ground_sor_roi_lidar.las\"\n",
    "segment_single_tree(lidar_las_path, lidar_shapefile_paths)"
   ]
  },
  {
   "cell_type": "code",
   "execution_count": 13,
   "id": "b84ff3be",
   "metadata": {},
   "outputs": [],
   "source": [
    "lidar_single_tree_folder = r\"E:\\Pear\\Lidar\\Dormancy Stage\\Result_dir\\origin_single_tree_las\"\n",
    "lidar_denosied_tree_folder = r\"E:\\Pear\\Lidar\\Dormancy Stage\\Result_dir\\denosied_single_tree_las\"\n",
    "denoise_pear_tree(lidar_single_tree_folder, lidar_denosied_tree_folder, sigma=5, K=10)"
   ]
  },
  {
   "cell_type": "code",
   "execution_count": null,
   "id": "29ed5994",
   "metadata": {},
   "outputs": [],
   "source": []
  },
  {
   "cell_type": "markdown",
   "id": "acd77bf1",
   "metadata": {},
   "source": [
    "# Uav Dormancy Stage"
   ]
  },
  {
   "cell_type": "code",
   "execution_count": 14,
   "id": "4fbab6e3",
   "metadata": {},
   "outputs": [
    {
     "name": "stdout",
     "output_type": "stream",
     "text": [
      "[(-1, 1402), (2925, -1), (4324, 2936), (1373, 4373)]\n",
      "num_rows: 3282, num_cols: 3273\n",
      "RTK points: [[421290.74092155846, 3499820.730711485], [421276.7025521803, 3499791.4654444326], [421306.0758895532, 3499777.4790258044], [421320.4454896842, 3499806.991575519]]\n",
      "Pixel indices: [(-1, 1402), (2925, -1), (4324, 2936), (1373, 4373)]\n",
      "Transform: | 0.01,-0.00, 421290.82|\n",
      "|-0.00,-0.01, 3499820.79|\n",
      "| 0.00, 0.00, 1.00|\n",
      "CHM array shape: (4323, 4373)\n",
      "Perspective transform shape: (3, 3)\n",
      "Warped CHM shape: (3282, 3273)\n"
     ]
    }
   ],
   "source": [
    "uav_dormancy_chm_path = r\"E:\\Pear\\UAV\\Dormancy Stage\\chm_roi_uav_dormancy.tif\"\n",
    "uav_dormancy_rtk_path = r\"E:\\Pear\\ROI_Points\\UAV\\uav_roi_points.shp\"\n",
    "uav_dormancy_transformed_chm_path = transform_chm(uav_dormancy_chm_path, uav_dormancy_rtk_path)"
   ]
  },
  {
   "cell_type": "code",
   "execution_count": 15,
   "id": "1a445dca",
   "metadata": {},
   "outputs": [
    {
     "name": "stdout",
     "output_type": "stream",
     "text": [
      "Centroid coordinates:\n",
      "[(227.29531001589825, 2403.3428722840486), (207.736400541272, 260.51132160577356), (241.1831606788627, 2032.5369186687237), (229.79100664282063, 2729.817705671947), (214.55038520801233, 1687.3554699537751), (241.68477366255144, 1326.2041152263375), (267.3015442969385, 3105.4181793551884), (221.1148798707854, 985.4017767009893), (606.0501074428599, 231.9431529595624), (640.7148859543818, 3093.596138455382), (661.4063621143267, 2763.6430678466077), (623.6922833148471, 2037.7111392806212), (657.4356969830434, 2391.633560889672), (595.6990445859873, 989.3097857556456), (608.0520757465404, 616.8170065549891), (625.6539205155747, 1665.2554242749732), (602.4071601941747, 1326.9726941747572), (1015.8554275515171, 243.41732922278112), (997.5668321067944, 1322.739003936334), (989.3536282306163, 976.2365805168986), (1032.886013986014, 2050.279160839161), (1046.8820203255138, 2728.564911744479), (1026.2563688554, 1655.066917832795), (1060.783828816978, 3080.395860738402), (1027.7866880513232, 621.6976744186046), (1059.1749740808677, 2393.6923997128956), (1439.6604170317155, 2376.260820045558), (1409.6923076923076, 974.2916162489196), (1441.1667714225853, 1324.275089042531), (1417.9611849824012, 265.78333985138835), (1430.5386887182517, 2039.867690490254), (1408.862745098039, 610.2392725206024), (1464.8024566033905, 2739.2977362704296), (1450.5376801647221, 3091.2970487302678), (1447.4572827861418, 1673.7065118810085), (1798.5843363826032, 2384.4715134007383), (1836.132597165464, 1674.5408225371707), (1837.9237066713117, 2723.4685594844104), (1823.2652961808262, 2045.110580670304), (1782.9192857142857, 263.18285714285713), (1808.4933576452202, 623.8301641052358), (1852.6318528488111, 3090.1435621354867), (1836.2292390274708, 1321.1395642563941), (2234.4157846295443, 239.20823745973308), (2215.4234246211113, 1674.270140919968), (2259.9106128842764, 3090.1474446837674), (2232.3123368516626, 2762.5720122574057), (2210.789038262668, 972.6156497759393), (2217.212325875897, 616.7281553398059), (2211.8098641887063, 1319.385275196569), (2224.8080864542576, 2381.695733184274), (2238.3059286706807, 2046.2457156090784), (2641.705190272461, 3083.7004053141186), (2611.9319633435157, 620.3190780338795), (2641.3888273110174, 2742.713810684992), (2633.0353133769877, 2401.542329279701), (2657.551813026293, 1324.2467777968723), (2657.412417620534, 247.5513354144988), (2643.723105902051, 965.3884470489745), (2628.1041847041847, 2049.7203463203464), (2652.108932073453, 1661.2522731324657), (3045.8877523910733, 2738.799548352816), (3013.635418600334, 619.0488212363097), (3032.4815693037294, 245.41399008406984), (3027.06253270539, 1675.2375719518577), (3059.532715376227, 2397.983642311887), (3057.059970311727, 3080.3189510143493), (3029.3886732130622, 1329.7709522722082), (3019.429026774331, 2040.7076073098171), (3064.059049849448, 934.3318835731013)]\n",
      "Bounding box coordinates:\n",
      "[(106, 2349, 330, 2468), (111, 180, 320, 322), (114, 1967, 312, 2103), (133, 2674, 320, 2795), (148, 1620, 317, 1748), (151, 1299, 310, 1366), (152, 3020, 401, 3191), (162, 940, 274, 1048), (497, 170, 719, 313), (511, 3000, 773, 3156), (524, 2688, 793, 2846), (536, 2001, 728, 2111), (541, 2315, 758, 2480), (542, 928, 662, 1048), (554, 571, 685, 676), (555, 1621, 686, 1714), (566, 1306, 656, 1343), (872, 162, 1113, 352), (911, 1272, 1101, 1364), (918, 949, 1049, 1037), (923, 1997, 1163, 2102), (926, 2659, 1176, 2793), (962, 1616, 1118, 1709), (968, 3024, 1157, 3147), (977, 600, 1084, 638), (982, 2311, 1179, 2471), (1307, 2328, 1549, 2455), (1319, 913, 1514, 1021), (1323, 1260, 1528, 1396), (1334, 196, 1515, 350), (1335, 2000, 1515, 2120), (1338, 579, 1470, 638), (1339, 2664, 1559, 2821), (1344, 3041, 1558, 3151), (1381, 1627, 1516, 1732), (1696, 2310, 1926, 2456), (1699, 1616, 1963, 1737), (1699, 2656, 1958, 2810), (1705, 1995, 1943, 2112), (1717, 207, 1917, 340), (1735, 599, 1910, 678), (1751, 3036, 1974, 3181), (1775, 1278, 1903, 1358), (2108, 146, 2343, 320), (2131, 1618, 2311, 1748), (2139, 2995, 2392, 3144), (2140, 2696, 2311, 2823), (2146, 952, 2282, 1000), (2150, 588, 2285, 665), (2152, 1285, 2284, 1359), (2155, 2327, 2323, 2450), (2171, 1997, 2325, 2087), (2500, 2983, 2780, 3182), (2526, 587, 2702, 650), (2533, 2684, 2736, 2810), (2537, 2364, 2687, 2453), (2540, 1267, 2739, 1373), (2554, 181, 2706, 320), (2563, 932, 2705, 1021), (2580, 2010, 2692, 2130), (2582, 1600, 2740, 1748), (2914, 2662, 3137, 2830), (2935, 574, 3114, 699), (2936, 190, 3111, 317), (2951, 1626, 3117, 1738), (2951, 2334, 3159, 2442), (2953, 3013, 3170, 3144), (2961, 1282, 3079, 1385), (2979, 1976, 3077, 2120), (2982, 882, 3150, 984)]\n"
     ]
    }
   ],
   "source": [
    "# BBox Detection\n",
    "uav_dormancy_centroid_list, uav_dormancy_bbox_list, uav_dormancy_binary = extract_bbox(uav_dormancy_transformed_chm_path)\n",
    "\n",
    "print(\"Centroid coordinates:\")\n",
    "print(uav_dormancy_centroid_list)\n",
    "print(\"Bounding box coordinates:\")\n",
    "print(uav_dormancy_bbox_list)"
   ]
  },
  {
   "cell_type": "code",
   "execution_count": 16,
   "id": "439edb8e",
   "metadata": {},
   "outputs": [],
   "source": [
    "uav_dormancy_geo_pixels, uav_dormancy_shapefile_paths = generate_tree_shapefiles(uav_dormancy_bbox_list, uav_dormancy_transformed_chm_path)"
   ]
  },
  {
   "cell_type": "code",
   "execution_count": 17,
   "id": "d021cb66",
   "metadata": {},
   "outputs": [],
   "source": [
    "# segment uav flowering stage single tree\n",
    "uav_dormancy_las_path = r\"E:\\Pear\\UAV\\Dormancy Stage\\dormancy_manual_above_ground_sor_roi_uav.las\"\n",
    "segment_single_tree(uav_dormancy_las_path, uav_dormancy_shapefile_paths)"
   ]
  },
  {
   "cell_type": "code",
   "execution_count": 18,
   "id": "b6236932",
   "metadata": {},
   "outputs": [],
   "source": [
    "uav_dormancy_single_tree_folder = r\"E:\\Pear\\UAV\\Dormancy Stage\\Result_dir\\origin_single_tree_las\"\n",
    "uav_dormancy_denosied_tree_folder = r\"E:\\Pear\\UAV\\Dormancy Stage\\Result_dir\\denosied_single_tree_las\"\n",
    "denoise_pear_tree(uav_dormancy_single_tree_folder, uav_dormancy_denosied_tree_folder, sigma=1, K=10)"
   ]
  },
  {
   "cell_type": "code",
   "execution_count": null,
   "id": "b8bd55ac",
   "metadata": {},
   "outputs": [],
   "source": []
  },
  {
   "cell_type": "markdown",
   "id": "cffdc28b",
   "metadata": {},
   "source": [
    "# Uav Flowering Stage"
   ]
  },
  {
   "cell_type": "code",
   "execution_count": 20,
   "id": "f6fc9321",
   "metadata": {},
   "outputs": [
    {
     "name": "stdout",
     "output_type": "stream",
     "text": [
      "[(-18, 1403), (2908, -1), (4307, 2936), (1355, 4373)]\n",
      "num_rows: 3283, num_cols: 3272\n",
      "RTK points: [[421290.74092155846, 3499820.730711485], [421276.7025521803, 3499791.4654444326], [421306.0758895532, 3499777.4790258044], [421320.4454896842, 3499806.991575519]]\n",
      "Pixel indices: [(-18, 1403), (2908, -1), (4307, 2936), (1355, 4373)]\n",
      "Transform: | 0.01,-0.00, 421290.82|\n",
      "|-0.00,-0.01, 3499820.79|\n",
      "| 0.00, 0.00, 1.00|\n",
      "CHM array shape: (4307, 4366)\n",
      "Perspective transform shape: (3, 3)\n",
      "Warped CHM shape: (3283, 3272)\n"
     ]
    }
   ],
   "source": [
    "uav_flowering_chm_path = r\"E:\\Pear\\UAV\\Flowering Stage\\chm_roi_uav_flowering.tif\"\n",
    "uav_flowering_rtk_path = r\"E:\\Pear\\ROI_Points\\UAV\\uav_roi_points.shp\"\n",
    "uav_flowering_transformed_chm_path = transform_chm(uav_flowering_chm_path, uav_flowering_rtk_path)"
   ]
  },
  {
   "cell_type": "code",
   "execution_count": 21,
   "id": "3c360671",
   "metadata": {},
   "outputs": [
    {
     "name": "stdout",
     "output_type": "stream",
     "text": [
      "Centroid coordinates:\n",
      "[(198.78633838762948, 242.7431616874343), (229.76985329293575, 1312.4612501993302), (235.27661567280674, 2392.551306067229), (222.03123340574464, 2706.832923002655), (227.53209375517642, 2027.2459002815967), (200.59889582333173, 973.1279404704753), (209.11273449827596, 1671.077786219391), (265.1341603053435, 3095.8957251908396), (609.7934133790737, 234.73186963979416), (590.4227290223249, 977.7211797536567), (623.554576305526, 1661.0107886339463), (635.8431641714212, 3080.6564711938568), (641.6203768896252, 2383.3483122799753), (651.7759520587666, 2752.8011791996905), (628.0757741002418, 2025.4301294513727), (612.1622143991165, 608.5825222613378), (594.7412828239345, 1315.4089539388722), (1013.3658556192722, 230.95897422155528), (1004.1341363150539, 1316.4235797089534), (976.7328200741374, 962.9211861990306), (1052.1237133808393, 2718.9690881499077), (1039.2757189554486, 2026.8249164432366), (1056.7650760774318, 3070.1718314347168), (1056.1542711432214, 2383.0929419072218), (1022.4194566752514, 613.1580958710642), (1028.7988484259329, 1658.7977267628805), (1410.8676690324992, 960.9746918192006), (1440.2066167948583, 2374.28764092298), (1430.5896800603252, 252.80627670652447), (1435.3662753628623, 1313.9354536248734), (1436.8296005736217, 2045.1450082247247), (1418.8096659824594, 608.34288113454), (1460.3358093999248, 2731.1894362099065), (1438.9083841594365, 3086.678721759299), (1441.9445432224197, 1664.8223689780714), (1801.7477144324603, 2383.3898305084745), (1824.7868210836996, 1666.6293028776747), (1825.0346666666667, 1315.441282051282), (1828.183773336623, 2031.472160539518), (1803.5026083012021, 252.9913812655931), (1832.9244482173174, 2707.4124693454064), (1816.446723821188, 625.5324556031843), (1838.2054274875984, 3083.378538079953), (2231.1000941087896, 231.67837380011292), (2202.5668983199516, 1321.5154173132717), (2221.4483817478354, 2384.3070073082354), (2226.250526920866, 1671.5007664303507), (2223.2069577080492, 605.137789904502), (2228.9781433832322, 2735.942321488354), (2208.7067844640774, 967.5050841806968), (2267.1383122669217, 3084.108511270255), (2234.1449706520866, 2036.389080968079), (2637.7971642992547, 3077.183879093199), (2634.4433478345563, 2395.8373482241414), (2619.897238827213, 618.9418588101338), (2638.815035341119, 2729.075637676706), (2654.3734812466982, 1314.2021130480719), (2671.0349160247506, 238.35642126531127), (2644.004403019213, 955.2806495882891), (2633.055388786676, 2041.8976469449017), (2665.040164452878, 1662.6354100780097), (3031.960880519825, 2732.14622287053), (3043.624342729075, 239.83191104215155), (3053.7129935032485, 936.4654672663668), (3020.0562806550834, 1319.3452489816277), (3014.632555546707, 614.0684876961058), (3017.658471038939, 2053.0588369832467), (3061.557058264493, 3079.218656334527), (3035.416435313715, 1676.3358319452157), (3060.640633634187, 2393.072573217904)]\n",
      "Bounding box coordinates:\n",
      "[(30, 144, 365, 346), (82, 1225, 409, 1392), (88, 2295, 363, 2492), (99, 2629, 345, 2810), (103, 1950, 350, 2144), (107, 902, 288, 1063), (119, 1567, 343, 1763), (126, 2993, 408, 3216), (435, 126, 759, 352), (471, 892, 694, 1077), (476, 1585, 738, 1741), (482, 2979, 807, 3193), (509, 2284, 793, 2493), (514, 2654, 810, 2861), (518, 1936, 771, 2119), (533, 525, 703, 685), (552, 1287, 654, 1335), (870, 126, 1177, 347), (871, 1215, 1153, 1412), (884, 898, 1074, 1058), (900, 2629, 1202, 2821), (904, 1927, 1182, 2124), (916, 2988, 1177, 3170), (928, 2285, 1220, 2493), (943, 534, 1135, 676), (950, 1596, 1131, 1726), (1227, 854, 1558, 1042), (1245, 2281, 1614, 2495), (1277, 168, 1604, 370), (1298, 1208, 1566, 1425), (1302, 1964, 1549, 2146), (1310, 552, 1513, 678), (1310, 2610, 1592, 2833), (1317, 3001, 1605, 3174), (1336, 1596, 1552, 1746), (1663, 2282, 1970, 2464), (1673, 1570, 1982, 1779), (1676, 1223, 1969, 1398), (1676, 1942, 1965, 2128), (1677, 172, 1973, 356), (1677, 2593, 1993, 2803), (1692, 557, 1944, 696), (1696, 2981, 1997, 3198), (2076, 107, 2355, 324), (2083, 1260, 2328, 1414), (2094, 2292, 2364, 2465), (2099, 1600, 2339, 1776), (2118, 559, 2329, 662), (2121, 2644, 2343, 2824), (2134, 928, 2294, 1020), (2136, 2963, 2413, 3181), (2142, 1944, 2333, 2098), (2470, 2949, 2795, 3195), (2493, 2324, 2742, 2458), (2497, 555, 2737, 686), (2500, 2633, 2768, 2846), (2507, 1219, 2821, 1422), (2528, 140, 2753, 330), (2529, 884, 2755, 1051), (2550, 1933, 2747, 2154), (2563, 1570, 2786, 1753), (2884, 2621, 3162, 2828), (2910, 166, 3177, 319), (2913, 842, 3206, 1026), (2914, 1237, 3099, 1386), (2918, 513, 3147, 706), (2922, 1947, 3123, 2172), (2932, 2988, 3207, 3187), (2936, 1603, 3144, 1761), (2938, 2309, 3198, 2465)]\n"
     ]
    }
   ],
   "source": [
    "# BBox Detection\n",
    "uav_flowering_centroid_list, uav_flowering_bbox_list, uav_flowering_binary = extract_bbox(uav_flowering_transformed_chm_path)\n",
    "\n",
    "print(\"Centroid coordinates:\")\n",
    "print(uav_flowering_centroid_list)\n",
    "print(\"Bounding box coordinates:\")\n",
    "print(uav_flowering_bbox_list)"
   ]
  },
  {
   "cell_type": "code",
   "execution_count": 22,
   "id": "9bfbc168",
   "metadata": {},
   "outputs": [],
   "source": [
    "uav_flowering_geo_pixels, uav_flowering_shapefile_paths = generate_tree_shapefiles(uav_flowering_bbox_list, uav_flowering_transformed_chm_path)"
   ]
  },
  {
   "cell_type": "code",
   "execution_count": 23,
   "id": "999f57c6",
   "metadata": {},
   "outputs": [],
   "source": [
    "# segment uav flowering stage single tree\n",
    "uav_flowering_las_path = r\"E:\\Pear\\UAV\\Flowering Stage\\flowering_manual_above_ground_sor_roi_uav.las\"\n",
    "segment_single_tree(uav_flowering_las_path, uav_flowering_shapefile_paths)"
   ]
  },
  {
   "cell_type": "code",
   "execution_count": 24,
   "id": "3d509d00",
   "metadata": {},
   "outputs": [],
   "source": [
    "uav_flowering_single_tree_folder = r\"E:\\Pear\\UAV\\Flowering Stage\\Result_dir\\origin_single_tree_las\"\n",
    "uav_flowering_denosied_tree_folder = r\"E:\\Pear\\UAV\\Flowering Stage\\Result_dir\\denosied_single_tree_las\"\n",
    "denoise_pear_tree(uav_flowering_single_tree_folder, uav_flowering_denosied_tree_folder, sigma=1, K=10)"
   ]
  },
  {
   "cell_type": "code",
   "execution_count": null,
   "id": "38e5a288",
   "metadata": {},
   "outputs": [],
   "source": []
  },
  {
   "cell_type": "code",
   "execution_count": null,
   "id": "a6403808",
   "metadata": {},
   "outputs": [],
   "source": []
  }
 ],
 "metadata": {
  "kernelspec": {
   "display_name": "text",
   "language": "python",
   "name": "text"
  },
  "language_info": {
   "codemirror_mode": {
    "name": "ipython",
    "version": 3
   },
   "file_extension": ".py",
   "mimetype": "text/x-python",
   "name": "python",
   "nbconvert_exporter": "python",
   "pygments_lexer": "ipython3",
   "version": "3.8.19"
  }
 },
 "nbformat": 4,
 "nbformat_minor": 5
}
