{
 "cells": [
  {
   "cell_type": "code",
   "execution_count": 1,
   "metadata": {},
   "outputs": [
    {
     "name": "stdout",
     "output_type": "stream",
     "text": [
      "Jupyter environment detected. Enabling Open3D WebVisualizer.\n",
      "[Open3D INFO] WebRTC GUI backend enabled.\n",
      "[Open3D INFO] WebRTCWindowSystem: HTTP handshake server disabled.\n"
     ]
    }
   ],
   "source": [
    "# Import Necessary Libraries\n",
    "import open3d as o3d\n",
    "import numpy as np\n",
    "from pc_skeletor.laplacian import SLBC\n",
    "from scipy.spatial import cKDTree\n",
    "import time\n",
    "import laspy\n",
    "import os\n",
    "import copy\n",
    "from math import ceil\n",
    "import matplotlib.pyplot as plt\n",
    "from multiprocessing import Pool, cpu_count\n",
    "from math import ceil\n",
    "from sklearn.cluster import KMeans\n",
    "import vtk"
   ]
  },
  {
   "cell_type": "markdown",
   "metadata": {},
   "source": [
    "# Flower Cluster Extraction"
   ]
  },
  {
   "cell_type": "code",
   "execution_count": 10,
   "metadata": {},
   "outputs": [],
   "source": [
    "# Nearest neighbor search removes the stem point cloud\n",
    "def remove_nearest_points(source_point_cloud, target_point_cloud, distance_threshold=0.02):\n",
    "    # Create a KDTree\n",
    "    kdtree_target = o3d.geometry.KDTreeFlann(target_point_cloud)\n",
    "    \n",
    "    correspondences = []\n",
    "    corresponding_colors = []\n",
    "    # # Iterate over each point in the source point cloud\n",
    "    for idx in range(len(source_point_cloud.points)):\n",
    "        point_source = np.asarray(source_point_cloud.points[idx])\n",
    "        # Perform radius search in the KDTree to find points within the distance threshold\n",
    "        [_, idx_b, _] = kdtree_target.search_radius_vector_3d(point_source, distance_threshold)\n",
    "        correspondences.append(idx_b)\n",
    "        corresponding_colors.append(np.asarray(target_point_cloud.colors)[np.asarray(idx_b).flatten()])\n",
    "        \n",
    "    correspondences = np.hstack(correspondences)\n",
    "    correspondences = np.array(correspondences).flatten()\n",
    "    \n",
    "    # Find the complement of the indices in the target point cloud\n",
    "    all_indices = set(np.arange(len(target_point_cloud.points)))\n",
    "    subset_indices = set(correspondences)\n",
    "    complement_indices = all_indices - subset_indices\n",
    "    complement_list = list(complement_indices)\n",
    "\n",
    "    # Select the complement indices to create the filtered target point cloud\n",
    "    filtered_target_point_cloud = target_point_cloud.select_by_index(complement_list)\n",
    "    \n",
    "    return filtered_target_point_cloud"
   ]
  },
  {
   "cell_type": "code",
   "execution_count": 11,
   "metadata": {},
   "outputs": [],
   "source": [
    "# Color threshold removes stem point clouds\n",
    "def remove_by_color(point_cloud, color_threshold=0.8):\n",
    "    colors = np.asarray(point_cloud.colors)\n",
    "    # Convert RGB colors to grayscale\n",
    "    gray_colors = []\n",
    "    for color in colors:\n",
    "        gray = color[0]*0.299 + color[1]*0.587 + color[2]*0.114\n",
    "        gray_colors.append([gray, gray, gray])\n",
    "    \n",
    "    # Create a new point cloud with grayscale colors\n",
    "    graypcd = o3d.geometry.PointCloud()\n",
    "    graypcd.points = o3d.utility.Vector3dVector(point_cloud.points)\n",
    "    graypcd.colors = o3d.utility.Vector3dVector(gray_colors)\n",
    "    \n",
    "    color_array = np.asarray(graypcd.colors)\n",
    "    selected_indices = np.where(color_array > color_threshold)[0]\n",
    "    selected_points = graypcd.select_by_index(selected_indices)\n",
    "    return selected_points\n",
    "\n",
    "# Function to perform DBSCAN clustering on a point cloud\n",
    "def dbscan_cluster(point_cloud, output_folder):\n",
    "    # Perform DBSCAN clustering on the point cloud\n",
    "    with o3d.utility.VerbosityContextManager(o3d.utility.VerbosityLevel.Debug) as cm:\n",
    "        labels = np.array(point_cloud.cluster_dbscan(eps=0.02, min_points=20, print_progress=False))\n",
    "    max_label = labels.max()\n",
    "    \n",
    "    j = 1\n",
    "    for i in range(max_label + 1):\n",
    "        indices = np.where(labels == i)[0]\n",
    "        # Save the cluster to a file if it contains at least 50 points\n",
    "        if len(indices) >= 50:\n",
    "            cluster_point_cloud = point_cloud.select_by_index(indices)\n",
    "            file_name = f\"Dbscan_cluster{j}.pcd\"\n",
    "            file_path = os.path.join(output_folder, file_name)\n",
    "            o3d.io.write_point_cloud(file_path, cluster_point_cloud)\n",
    "            j += 1\n",
    "            \n",
    "    colors = plt.get_cmap(\"tab20\")(labels / (max_label if max_label > 0 else 1))\n",
    "    colors[labels < 0] = 0\n",
    "    point_cloud.colors = o3d.utility.Vector3dVector(colors[:, :3])\n",
    "    return point_cloud"
   ]
  },
  {
   "cell_type": "code",
   "execution_count": 12,
   "metadata": {},
   "outputs": [],
   "source": [
    "# classify data using K-means clustering\n",
    "def kmeans_classify(trait_data, n_clusters=2):\n",
    "    kmeans = KMeans(n_clusters=n_clusters, n_init=10, random_state=42)\n",
    "    kmeans.fit(trait_data)\n",
    "\n",
    "    kmeans_labels = kmeans.labels_\n",
    "    # cluster_centers = kmeans.cluster_centers_\n",
    "    return kmeans_labels"
   ]
  },
  {
   "cell_type": "code",
   "execution_count": null,
   "metadata": {},
   "outputs": [],
   "source": []
  }
 ],
 "metadata": {
  "kernelspec": {
   "display_name": "Python 3 (ipykernel)",
   "language": "python",
   "name": "python3"
  },
  "language_info": {
   "codemirror_mode": {
    "name": "ipython",
    "version": 3
   },
   "file_extension": ".py",
   "mimetype": "text/x-python",
   "name": "python",
   "nbconvert_exporter": "python",
   "pygments_lexer": "ipython3",
   "version": "3.7.0"
  }
 },
 "nbformat": 4,
 "nbformat_minor": 2
}
